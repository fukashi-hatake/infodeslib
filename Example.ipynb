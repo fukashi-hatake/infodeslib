{
 "cells": [
  {
   "cell_type": "markdown",
   "id": "36730e1f",
   "metadata": {},
   "source": [
    "### Example "
   ]
  },
  {
   "cell_type": "code",
   "execution_count": 1,
   "id": "1202b072",
   "metadata": {},
   "outputs": [],
   "source": [
    "import warnings\n",
    "warnings.filterwarnings('ignore') \n",
    "\n",
    "import pandas as pd \n",
    "from sklearn.datasets import load_breast_cancer\n",
    "from sklearn.model_selection import train_test_split\n",
    "\n",
    "from sklearn.svm import SVC \n",
    "from sklearn.ensemble import RandomForestClassifier \n",
    "from sklearn.neighbors import KNeighborsClassifier \n",
    "\n",
    "from sklearn.metrics import accuracy_score"
   ]
  },
  {
   "cell_type": "code",
   "execution_count": 2,
   "id": "424c3fae",
   "metadata": {},
   "outputs": [],
   "source": [
    "data = load_breast_cancer()\n",
    "\n",
    "df = pd.DataFrame(data.data, columns = data.feature_names)\n",
    "df['target'] = data.target "
   ]
  },
  {
   "cell_type": "code",
   "execution_count": 3,
   "id": "3b64a3f9",
   "metadata": {},
   "outputs": [
    {
     "data": {
      "text/plain": [
       "(30,)"
      ]
     },
     "execution_count": 3,
     "metadata": {},
     "output_type": "execute_result"
    }
   ],
   "source": [
    "data.feature_names.shape "
   ]
  },
  {
   "cell_type": "code",
   "execution_count": 4,
   "id": "d9c2c07e",
   "metadata": {},
   "outputs": [
    {
     "data": {
      "text/plain": [
       "array(['mean radius', 'mean texture', 'mean perimeter', 'mean area',\n",
       "       'mean smoothness', 'mean compactness', 'mean concavity',\n",
       "       'mean concave points', 'mean symmetry', 'mean fractal dimension'],\n",
       "      dtype='<U23')"
      ]
     },
     "execution_count": 4,
     "metadata": {},
     "output_type": "execute_result"
    }
   ],
   "source": [
    "data.feature_names[:10]"
   ]
  },
  {
   "cell_type": "code",
   "execution_count": 5,
   "id": "5260505c",
   "metadata": {},
   "outputs": [],
   "source": [
    "X = df.drop(['target'], axis=1) \n",
    "y = df.target \n",
    "\n",
    "X_train, X_test, y_train, y_test = train_test_split(X, y, test_size=0.30, random_state=42)\n",
    "X_pool, X_dsel, y_pool, y_dsel   = train_test_split(X_train, y_train, test_size=0.30, random_state=42)"
   ]
  },
  {
   "cell_type": "code",
   "execution_count": 6,
   "id": "05f031fc",
   "metadata": {},
   "outputs": [],
   "source": [
    "model1 = SVC(probability=True, random_state=42)\n",
    "model2 = RandomForestClassifier(random_state=42) \n",
    "model3 = KNeighborsClassifier() \n",
    "\n",
    "feature_set1 = data.feature_names[:10] \n",
    "feature_set2 = data.feature_names[10:20]\n",
    "feature_set3 = data.feature_names[20:]\n",
    "\n",
    "model_pool = [model1, \n",
    "              model2, \n",
    "              model3]\n",
    "\n",
    "feature_sets = [feature_set1, \n",
    "                feature_set2, \n",
    "                feature_set3]  "
   ]
  },
  {
   "cell_type": "markdown",
   "id": "f21f1683",
   "metadata": {},
   "source": [
    "##### Train models "
   ]
  },
  {
   "cell_type": "code",
   "execution_count": 7,
   "id": "af2ae3ff",
   "metadata": {},
   "outputs": [
    {
     "name": "stdout",
     "output_type": "stream",
     "text": [
      "[DSEL] Model 0 acc: 0.833\n",
      "[DSEL] Model 1 acc: 0.808\n",
      "[DSEL] Model 2 acc: 0.858\n"
     ]
    }
   ],
   "source": [
    "for i in range(len(model_pool)): \n",
    "    model_pool[i].fit(X_pool[feature_sets[i]], y_pool)\n",
    "    \n",
    "    acc = round(model_pool[i].score(X_dsel[feature_sets[i]], y_dsel), 3) \n",
    "    print(\"[DSEL] Model {} acc: {}\".format(i, acc)) "
   ]
  },
  {
   "cell_type": "markdown",
   "id": "02ebaa03",
   "metadata": {},
   "source": [
    "#### KNORA-U "
   ]
  },
  {
   "cell_type": "code",
   "execution_count": 8,
   "id": "a77ae0d2",
   "metadata": {},
   "outputs": [],
   "source": [
    "from infodeslib.des.knorau import KNORAU \n",
    "\n",
    "colors = {0: 'red', 1: 'green'}  \n",
    "\n",
    "knorau = KNORAU(model_pool, feature_sets, k=7,  \n",
    "                DFP=True, plot=False, X_dsel=X_dsel, y_dsel=y_dsel, colors=colors)"
   ]
  },
  {
   "cell_type": "code",
   "execution_count": 9,
   "id": "0f40e126",
   "metadata": {
    "scrolled": true
   },
   "outputs": [
    {
     "name": "stderr",
     "output_type": "stream",
     "text": [
      "100%|████████████████████████████████████████| 171/171 [00:06<00:00, 25.85it/s]"
     ]
    },
    {
     "name": "stdout",
     "output_type": "stream",
     "text": [
      "[Test] acc: 0.924\n"
     ]
    },
    {
     "name": "stderr",
     "output_type": "stream",
     "text": [
      "\n"
     ]
    }
   ],
   "source": [
    "from tqdm import tqdm \n",
    "\n",
    "preds = [] \n",
    "\n",
    "for i in tqdm(range(X_test.shape[0])):\n",
    "    query = X_test.iloc[[i]] \n",
    "    \n",
    "    pred, conf = knorau.predict(query)\n",
    "    preds.append(pred) \n",
    "    \n",
    "\n",
    "acc = round(accuracy_score(y_test, preds), 3) \n",
    "print(\"[Test] acc: {}\".format(acc))"
   ]
  },
  {
   "cell_type": "markdown",
   "id": "d533e803",
   "metadata": {},
   "source": [
    "#### Explainmability"
   ]
  },
  {
   "cell_type": "code",
   "execution_count": 10,
   "id": "7e24e6b3",
   "metadata": {},
   "outputs": [],
   "source": [
    "colors = {0: 'red', 1: 'green'}  \n",
    "\n",
    "## Make plot=True \n",
    "knorau = KNORAU(model_pool, feature_sets, k=7,  \n",
    "                DFP=True, plot=True, X_dsel=X_dsel, y_dsel=y_dsel, colors=colors)"
   ]
  },
  {
   "cell_type": "code",
   "execution_count": 11,
   "id": "b6eabf52",
   "metadata": {},
   "outputs": [
    {
     "name": "stdout",
     "output_type": "stream",
     "text": [
      "Num classes: 1\n"
     ]
    },
    {
     "data": {
      "image/png": "[encoded data removed]",
      "text/plain": [
       "<Figure size 432x288 with 1 Axes>"
      ]
     },
     "metadata": {
      "needs_background": "light"
     },
     "output_type": "display_data"
    },
    {
     "name": "stdout",
     "output_type": "stream",
     "text": [
      "Selected models indices: [0, 1, 2] (weights: [1.0, 1.0, 1.0])\n",
      "[Prediction]: 0 (Conf: 98.6 %)\n",
      "========================================================\n"
     ]
    },
    {
     "data": {
      "text/plain": [
       "(0, 98.6)"
      ]
     },
     "execution_count": 11,
     "metadata": {},
     "output_type": "execute_result"
    }
   ],
   "source": [
    "query = X_test.iloc[[5]]\n",
    "\n",
    "knorau.predict(query, y_test.iloc[5])"
   ]
  },
  {
   "cell_type": "code",
   "execution_count": 12,
   "id": "f2d36d51",
   "metadata": {},
   "outputs": [
    {
     "name": "stdout",
     "output_type": "stream",
     "text": [
      "Num classes: 2\n"
     ]
    },
    {
     "data": {
      "image/png": "[encoded data removed]",
      "text/plain": [
       "<Figure size 432x288 with 1 Axes>"
      ]
     },
     "metadata": {
      "needs_background": "light"
     },
     "output_type": "display_data"
    },
    {
     "name": "stdout",
     "output_type": "stream",
     "text": [
      "Selected models indices: [1] (weights: [1.0])\n",
      "[Prediction]: 0 (Conf: 100.0 %)\n",
      "========================================================\n"
     ]
    },
    {
     "data": {
      "text/plain": [
       "(0, 100.0)"
      ]
     },
     "execution_count": 12,
     "metadata": {},
     "output_type": "execute_result"
    }
   ],
   "source": [
    "query = X_test.iloc[[7]]\n",
    "\n",
    "knorau.predict(query, y_test.iloc[7])"
   ]
  }
 ],
 "metadata": {
  "kernelspec": {
   "display_name": "Python 3 (ipykernel)",
   "language": "python",
   "name": "python3"
  },
  "language_info": {
   "codemirror_mode": {
    "name": "ipython",
    "version": 3
   },
   "file_extension": ".py",
   "mimetype": "text/x-python",
   "name": "python",
   "nbconvert_exporter": "python",
   "pygments_lexer": "ipython3",
   "version": "3.10.4"
  }
 },
 "nbformat": 4,
 "nbformat_minor": 5
}
